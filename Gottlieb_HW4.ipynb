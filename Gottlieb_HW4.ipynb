{
 "cells": [
  {
   "cell_type": "code",
   "execution_count": null,
   "metadata": {},
   "outputs": [],
   "source": [
    "import os\n",
    "import pandas as pd\n",
    "import numpy as np\n",
    "import matplotlib.pyplot as plt\n",
    "import lightgbm as lgb\n",
    "from sklearn.model_selection import ShuffleSplit\n",
    "from sklearn.preprocessing import StandardScaler\n",
    "from sklearn.linear_model import LinearRegression\n",
    "from sklearn import metrics"
   ]
  },
  {
   "cell_type": "code",
   "execution_count": null,
   "metadata": {},
   "outputs": [],
   "source": [
    "def getFileName(ltr, num, tst) :\n",
    "    div = os.sep\n",
    "    base_path = os.getcwd() + div + \"HW4data\"\n",
    "    path = base_path+div+ ltr + div + num + div\n",
    "    return path + 'Train'*(tst==0) + 'Test'*(tst==1) + 'X'*(ltr is 'b' and tst == 0) + \"_\" + num + ltr + '.csv'\n"
   ]
  },
  {
   "cell_type": "code",
   "execution_count": null,
   "metadata": {},
   "outputs": [],
   "source": [
    "\n",
    "scoress=[]\n",
    "\n",
    "div = os.sep\n",
    "path = os.getcwd() + div + \"HW4data\" + div + \"hw4_result.csv\"\n",
    "hw4_result = pd.read_csv(path)\n",
    "\n",
    "base = [\"a\",\"b\"]\n",
    "ext = [\"1\", \"2\", \"3\", \"4\", \"5\"]\n",
    "for letter in base :\n",
    "    for number in ext :\n",
    "        \n",
    "\n",
    "        trainer = pd.read_csv(getFileName(letter, number, 0))\n",
    "        tester = pd.read_csv(getFileName(letter, number, 1))\n",
    "\n",
    "        features = tester.columns.tolist()\n",
    "        x = trainer.loc[:, features].values\n",
    "        y = trainer.loc[:,['Output']].values\n",
    "        x = StandardScaler().fit_transform(x)\n",
    "        train = pd.DataFrame(data=x, columns=tester.columns.tolist())\n",
    "        train = train.join(trainer['Output'])\n",
    "\n",
    "\n",
    "        from sklearn.decomposition import PCA\n",
    "        pca = PCA(n_components=5)\n",
    "        principalComponents = pca.fit_transform(x)\n",
    "        principalDf = pd.DataFrame(data = principalComponents\n",
    "                     , columns = ['principal component 1', 'principal component 2', 'principal component 3', 'principal component 4', 'principal component 5'])\n",
    "        inverse_df = pca.inverse_transform(principalDf)\n",
    "        MSE = ((x-inverse_df)**2).sum(axis=1)\n",
    "        n=10\n",
    "        MSE_max_scores = pd.Series(MSE).nlargest(n).index\n",
    "        \n",
    "        \n",
    "        lst = []\n",
    "        for i in MSE_max_scores :\n",
    "            if (MSE[int(i)]) > 4 :\n",
    "                lst.append(i)\n",
    "        train.drop(train.index[lst])\n",
    "\n",
    "        \n",
    "        predict = np.zeros(len(train))\n",
    "        models = []\n",
    "        scores = []\n",
    "        X = np.arange(len(train))\n",
    "        ss = ShuffleSplit(n_splits=5, test_size=0.25, random_state=0)\n",
    "        for train_index,test_index in ss.split(X):\n",
    "            xtr, ytr = train[features].iloc[train_index], train['Output'].iloc[train_index]\n",
    "            xvl, yvl = train[features].iloc[test_index], train['Output'].iloc[test_index]\n",
    "            regressor = LinearRegression()\n",
    "            regressor.fit(xtr, ytr)\n",
    "            models.append(regressor)\n",
    "            predict[test_index]=(regressor.predict(xvl))\n",
    "            \n",
    "        \n",
    "        score = np.sqrt(metrics.mean_squared_error(train['Output'], np.clip(predict, a_min=0, a_max=None)))\n",
    "        \n",
    "        test = pd.read_csv(getFileName(letter, number, 1))\n",
    "        \n",
    "        out = []\n",
    "        temp = []\n",
    "        for model in models :\n",
    "            temp.append(model.predict(test))\n",
    "        out.append(np.mean(temp, axis=0))\n",
    "        \n",
    "        \n",
    "        print('Predicted score is :', score)\n",
    "        scoress.append(score)\n",
    "        string = number + letter\n",
    "        for i in range(len(out[0])) :\n",
    "            hw4_result[string][i]=out[0][i]\n",
    "        \n",
    "display(hw4_result)"
   ]
  },
  {
   "cell_type": "code",
   "execution_count": null,
   "metadata": {},
   "outputs": [],
   "source": [
    "hw4_result.to_csv('Gottlieb_hw4_result.csv', index=False)"
   ]
  },
  {
   "cell_type": "code",
   "execution_count": null,
   "metadata": {},
   "outputs": [],
   "source": []
  }
 ],
 "metadata": {
  "kernelspec": {
   "display_name": "Python 3",
   "language": "python",
   "name": "python3"
  },
  "language_info": {
   "codemirror_mode": {
    "name": "ipython",
    "version": 3
   },
   "file_extension": ".py",
   "mimetype": "text/x-python",
   "name": "python",
   "nbconvert_exporter": "python",
   "pygments_lexer": "ipython3",
   "version": "3.8.3"
  }
 },
 "nbformat": 4,
 "nbformat_minor": 4
}
